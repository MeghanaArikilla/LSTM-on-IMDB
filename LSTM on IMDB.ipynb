{
  "nbformat": 4,
  "nbformat_minor": 0,
  "metadata": {
    "colab": {
      "provenance": []
    },
    "kernelspec": {
      "name": "python3",
      "display_name": "Python 3"
    },
    "language_info": {
      "name": "python"
    }
  },
  "cells": [
    {
      "cell_type": "markdown",
      "source": [
        "IMDB LSTM"
      ],
      "metadata": {
        "id": "xu_jC43X07LH"
      }
    },
    {
      "cell_type": "code",
      "execution_count": null,
      "metadata": {
        "id": "YzPqztdb03Vw"
      },
      "outputs": [],
      "source": [
        "import numpy as np\n",
        "import pandas as pd"
      ]
    },
    {
      "cell_type": "code",
      "source": [
        "from keras.datasets import imdb\n",
        "from keras.models import Sequential\n",
        "from keras.layers import Dense\n",
        "from keras.layers import LSTM\n",
        "from keras.layers.embeddings import Embedding\n",
        "from keras.preprocessing import sequence"
      ],
      "metadata": {
        "id": "RBZ6xVjD1WpA"
      },
      "execution_count": null,
      "outputs": []
    },
    {
      "cell_type": "code",
      "source": [
        "np.random.seed(7)"
      ],
      "metadata": {
        "id": "kqFb4Ttt2D2D"
      },
      "execution_count": null,
      "outputs": []
    },
    {
      "cell_type": "code",
      "source": [
        "top_words = 20000"
      ],
      "metadata": {
        "id": "7uXxf2RW2NMt"
      },
      "execution_count": null,
      "outputs": []
    },
    {
      "cell_type": "code",
      "source": [
        "(X_train, y_train), (X_test, y_test) = imdb.load_data(nb_words=top_words)"
      ],
      "metadata": {
        "colab": {
          "base_uri": "https://localhost:8080/"
        },
        "id": "_dTsL_gh2QPx",
        "outputId": "c7a919e4-d80a-48a5-8eda-70a6269d59ee"
      },
      "execution_count": null,
      "outputs": [
        {
          "output_type": "stream",
          "name": "stdout",
          "text": [
            "WARNING:tensorflow:The `nb_words` argument in `load_data` has been renamed `num_words`.\n",
            "Downloading data from https://storage.googleapis.com/tensorflow/tf-keras-datasets/imdb.npz\n",
            "17465344/17464789 [==============================] - 0s 0us/step\n",
            "17473536/17464789 [==============================] - 0s 0us/step\n"
          ]
        }
      ]
    },
    {
      "cell_type": "code",
      "source": [
        "print(X_train[1])\n",
        "print(type(X_train[1]))\n",
        "print(len(X_train[1]))"
      ],
      "metadata": {
        "colab": {
          "base_uri": "https://localhost:8080/"
        },
        "id": "3E23nZ222ZsV",
        "outputId": "e02a815d-64d3-46fe-fc51-3b4e79579c41"
      },
      "execution_count": null,
      "outputs": [
        {
          "output_type": "stream",
          "name": "stdout",
          "text": [
            "[1, 194, 1153, 194, 8255, 78, 228, 5, 6, 1463, 4369, 5012, 134, 26, 4, 715, 8, 118, 1634, 14, 394, 20, 13, 119, 954, 189, 102, 5, 207, 110, 3103, 21, 14, 69, 188, 8, 30, 23, 7, 4, 249, 126, 93, 4, 114, 9, 2300, 1523, 5, 647, 4, 116, 9, 35, 8163, 4, 229, 9, 340, 1322, 4, 118, 9, 4, 130, 4901, 19, 4, 1002, 5, 89, 29, 952, 46, 37, 4, 455, 9, 45, 43, 38, 1543, 1905, 398, 4, 1649, 26, 6853, 5, 163, 11, 3215, 10156, 4, 1153, 9, 194, 775, 7, 8255, 11596, 349, 2637, 148, 605, 15358, 8003, 15, 123, 125, 68, 2, 6853, 15, 349, 165, 4362, 98, 5, 4, 228, 9, 43, 2, 1157, 15, 299, 120, 5, 120, 174, 11, 220, 175, 136, 50, 9, 4373, 228, 8255, 5, 2, 656, 245, 2350, 5, 4, 9837, 131, 152, 491, 18, 2, 32, 7464, 1212, 14, 9, 6, 371, 78, 22, 625, 64, 1382, 9, 8, 168, 145, 23, 4, 1690, 15, 16, 4, 1355, 5, 28, 6, 52, 154, 462, 33, 89, 78, 285, 16, 145, 95]\n",
            "<class 'list'>\n",
            "189\n"
          ]
        }
      ]
    },
    {
      "cell_type": "code",
      "source": [
        "max_review_length = 80"
      ],
      "metadata": {
        "id": "8YVTR-JW2fk7"
      },
      "execution_count": null,
      "outputs": []
    },
    {
      "cell_type": "code",
      "source": [
        "X_train = sequence.pad_sequences(X_train, maxlen=max_review_length)\n",
        "X_test = sequence.pad_sequences(X_test, maxlen=max_review_length)\n",
        "\n",
        "print(X_train.shape)\n",
        "print(X_train[1])"
      ],
      "metadata": {
        "colab": {
          "base_uri": "https://localhost:8080/"
        },
        "id": "3C7yVjLA2m-7",
        "outputId": "82bca5ad-4acb-4ddc-a894-15399024e04f"
      },
      "execution_count": null,
      "outputs": [
        {
          "output_type": "stream",
          "name": "stdout",
          "text": [
            "(25000, 80)\n",
            "[ 125   68    2 6853   15  349  165 4362   98    5    4  228    9   43\n",
            "    2 1157   15  299  120    5  120  174   11  220  175  136   50    9\n",
            " 4373  228 8255    5    2  656  245 2350    5    4 9837  131  152  491\n",
            "   18    2   32 7464 1212   14    9    6  371   78   22  625   64 1382\n",
            "    9    8  168  145   23    4 1690   15   16    4 1355    5   28    6\n",
            "   52  154  462   33   89   78  285   16  145   95]\n"
          ]
        }
      ]
    },
    {
      "cell_type": "markdown",
      "source": [
        "***Creating model (LSTM 1)***"
      ],
      "metadata": {
        "id": "9Od3vvM12vJD"
      }
    },
    {
      "cell_type": "code",
      "source": [
        "embedding_vecor_length = 32\n",
        "model = Sequential()\n",
        "model.add(Embedding(top_words+1, embedding_vecor_length, input_length=max_review_length))\n",
        "model.add(LSTM(100))\n",
        "model.add(Dense(1, activation='sigmoid'))\n",
        "model.compile(loss='binary_crossentropy', optimizer='adam', metrics=['accuracy'])\n",
        "print(model.summary())"
      ],
      "metadata": {
        "colab": {
          "base_uri": "https://localhost:8080/"
        },
        "id": "IE3heixk2uvx",
        "outputId": "9032f22d-e10b-4ca3-a884-ad9abc3821f2"
      },
      "execution_count": null,
      "outputs": [
        {
          "output_type": "stream",
          "name": "stdout",
          "text": [
            "Model: \"sequential\"\n",
            "_________________________________________________________________\n",
            " Layer (type)                Output Shape              Param #   \n",
            "=================================================================\n",
            " embedding (Embedding)       (None, 80, 32)            640032    \n",
            "                                                                 \n",
            " lstm (LSTM)                 (None, 100)               53200     \n",
            "                                                                 \n",
            " dense (Dense)               (None, 1)                 101       \n",
            "                                                                 \n",
            "=================================================================\n",
            "Total params: 693,333\n",
            "Trainable params: 693,333\n",
            "Non-trainable params: 0\n",
            "_________________________________________________________________\n",
            "None\n"
          ]
        }
      ]
    },
    {
      "cell_type": "markdown",
      "source": [
        "***Fitting model***"
      ],
      "metadata": {
        "id": "IOtgykOf3Wzb"
      }
    },
    {
      "cell_type": "code",
      "source": [
        "model.fit(X_train, y_train, epochs=10, batch_size=64)"
      ],
      "metadata": {
        "colab": {
          "base_uri": "https://localhost:8080/"
        },
        "id": "qAJcWF3b3V-6",
        "outputId": "5a530b89-6325-4b75-8612-2e2213303753"
      },
      "execution_count": null,
      "outputs": [
        {
          "output_type": "stream",
          "name": "stdout",
          "text": [
            "Epoch 1/10\n",
            "391/391 [==============================] - 42s 102ms/step - loss: 0.4605 - accuracy: 0.7650\n",
            "Epoch 2/10\n",
            "391/391 [==============================] - 41s 104ms/step - loss: 0.2664 - accuracy: 0.8949\n",
            "Epoch 3/10\n",
            "391/391 [==============================] - 40s 102ms/step - loss: 0.1987 - accuracy: 0.9247\n",
            "Epoch 4/10\n",
            "391/391 [==============================] - 40s 102ms/step - loss: 0.1494 - accuracy: 0.9465\n",
            "Epoch 5/10\n",
            "391/391 [==============================] - 40s 103ms/step - loss: 0.1054 - accuracy: 0.9624\n",
            "Epoch 6/10\n",
            "391/391 [==============================] - 40s 102ms/step - loss: 0.0801 - accuracy: 0.9721\n",
            "Epoch 7/10\n",
            "391/391 [==============================] - 40s 102ms/step - loss: 0.0505 - accuracy: 0.9834\n",
            "Epoch 8/10\n",
            "391/391 [==============================] - 40s 102ms/step - loss: 0.0395 - accuracy: 0.9874\n",
            "Epoch 9/10\n",
            "391/391 [==============================] - 40s 103ms/step - loss: 0.0393 - accuracy: 0.9872\n",
            "Epoch 10/10\n",
            "391/391 [==============================] - 40s 102ms/step - loss: 0.0335 - accuracy: 0.9888\n"
          ]
        },
        {
          "output_type": "execute_result",
          "data": {
            "text/plain": [
              "<keras.callbacks.History at 0x7f6b984b0690>"
            ]
          },
          "metadata": {},
          "execution_count": 10
        }
      ]
    },
    {
      "cell_type": "code",
      "source": [
        "scores = model.evaluate(X_test, y_test, verbose=0)\n",
        "print(\"Accuracy: %.2f%%\" % (scores[1]*100))"
      ],
      "metadata": {
        "colab": {
          "base_uri": "https://localhost:8080/"
        },
        "id": "_MKCpmsS9wvh",
        "outputId": "bdc5a828-bcbd-4f8b-f059-3a2181fd067a"
      },
      "execution_count": null,
      "outputs": [
        {
          "output_type": "stream",
          "name": "stdout",
          "text": [
            "Accuracy: 80.29%\n"
          ]
        }
      ]
    },
    {
      "cell_type": "markdown",
      "source": [
        "***top_words = 10000***\n",
        "\n",
        "***max_review_length = 200***"
      ],
      "metadata": {
        "id": "Kjl-4qjZ94kP"
      }
    },
    {
      "cell_type": "code",
      "source": [
        "top_words = 10000"
      ],
      "metadata": {
        "id": "iZuBpeyD-eOj"
      },
      "execution_count": null,
      "outputs": []
    },
    {
      "cell_type": "code",
      "source": [
        "(X_train, y_train), (X_test, y_test) = imdb.load_data(nb_words=top_words)"
      ],
      "metadata": {
        "colab": {
          "base_uri": "https://localhost:8080/"
        },
        "outputId": "93d67b0a-f9dd-4b14-de53-3e2f6750a38a",
        "id": "4UtP29vh-eOk"
      },
      "execution_count": null,
      "outputs": [
        {
          "output_type": "stream",
          "name": "stdout",
          "text": [
            "WARNING:tensorflow:The `nb_words` argument in `load_data` has been renamed `num_words`.\n"
          ]
        }
      ]
    },
    {
      "cell_type": "code",
      "source": [
        "print(X_train[1])\n",
        "print(type(X_train[1]))\n",
        "print(len(X_train[1]))"
      ],
      "metadata": {
        "colab": {
          "base_uri": "https://localhost:8080/"
        },
        "outputId": "82fa9175-975f-406d-91c2-676a9aa42678",
        "id": "9Couv5UK-eOl"
      },
      "execution_count": null,
      "outputs": [
        {
          "output_type": "stream",
          "name": "stdout",
          "text": [
            "[1, 194, 1153, 194, 8255, 78, 228, 5, 6, 1463, 4369, 5012, 134, 26, 4, 715, 8, 118, 1634, 14, 394, 20, 13, 119, 954, 189, 102, 5, 207, 110, 3103, 21, 14, 69, 188, 8, 30, 23, 7, 4, 249, 126, 93, 4, 114, 9, 2300, 1523, 5, 647, 4, 116, 9, 35, 8163, 4, 229, 9, 340, 1322, 4, 118, 9, 4, 130, 4901, 19, 4, 1002, 5, 89, 29, 952, 46, 37, 4, 455, 9, 45, 43, 38, 1543, 1905, 398, 4, 1649, 26, 6853, 5, 163, 11, 3215, 2, 4, 1153, 9, 194, 775, 7, 8255, 2, 349, 2637, 148, 605, 2, 8003, 15, 123, 125, 68, 2, 6853, 15, 349, 165, 4362, 98, 5, 4, 228, 9, 43, 2, 1157, 15, 299, 120, 5, 120, 174, 11, 220, 175, 136, 50, 9, 4373, 228, 8255, 5, 2, 656, 245, 2350, 5, 4, 9837, 131, 152, 491, 18, 2, 32, 7464, 1212, 14, 9, 6, 371, 78, 22, 625, 64, 1382, 9, 8, 168, 145, 23, 4, 1690, 15, 16, 4, 1355, 5, 28, 6, 52, 154, 462, 33, 89, 78, 285, 16, 145, 95]\n",
            "<class 'list'>\n",
            "189\n"
          ]
        }
      ]
    },
    {
      "cell_type": "code",
      "source": [
        "max_review_length = 200"
      ],
      "metadata": {
        "id": "deyax7dc-eOl"
      },
      "execution_count": null,
      "outputs": []
    },
    {
      "cell_type": "code",
      "source": [
        "X_train = sequence.pad_sequences(X_train, maxlen=max_review_length)\n",
        "X_test = sequence.pad_sequences(X_test, maxlen=max_review_length)\n",
        "\n",
        "print(X_train.shape)\n",
        "print(X_train[1])"
      ],
      "metadata": {
        "colab": {
          "base_uri": "https://localhost:8080/"
        },
        "outputId": "c5e78350-d4f8-4388-a773-3737bfa7c35e",
        "id": "4sgQEub5-eOl"
      },
      "execution_count": null,
      "outputs": [
        {
          "output_type": "stream",
          "name": "stdout",
          "text": [
            "(25000, 200)\n",
            "[   0    0    0    0    0    0    0    0    0    0    0    1  194 1153\n",
            "  194 8255   78  228    5    6 1463 4369 5012  134   26    4  715    8\n",
            "  118 1634   14  394   20   13  119  954  189  102    5  207  110 3103\n",
            "   21   14   69  188    8   30   23    7    4  249  126   93    4  114\n",
            "    9 2300 1523    5  647    4  116    9   35 8163    4  229    9  340\n",
            " 1322    4  118    9    4  130 4901   19    4 1002    5   89   29  952\n",
            "   46   37    4  455    9   45   43   38 1543 1905  398    4 1649   26\n",
            " 6853    5  163   11 3215    2    4 1153    9  194  775    7 8255    2\n",
            "  349 2637  148  605    2 8003   15  123  125   68    2 6853   15  349\n",
            "  165 4362   98    5    4  228    9   43    2 1157   15  299  120    5\n",
            "  120  174   11  220  175  136   50    9 4373  228 8255    5    2  656\n",
            "  245 2350    5    4 9837  131  152  491   18    2   32 7464 1212   14\n",
            "    9    6  371   78   22  625   64 1382    9    8  168  145   23    4\n",
            " 1690   15   16    4 1355    5   28    6   52  154  462   33   89   78\n",
            "  285   16  145   95]\n"
          ]
        }
      ]
    },
    {
      "cell_type": "markdown",
      "source": [
        "***Creating model (LSTM 2)***"
      ],
      "metadata": {
        "id": "TC8wjgLD-eOm"
      }
    },
    {
      "cell_type": "code",
      "source": [
        "embedding_vecor_length = 32\n",
        "model = Sequential()\n",
        "model.add(Embedding(top_words+1, embedding_vecor_length, input_length=max_review_length))\n",
        "model.add(LSTM(100))\n",
        "model.add(Dense(1, activation='sigmoid'))\n",
        "model.compile(loss='binary_crossentropy', optimizer='adam', metrics=['accuracy'])\n",
        "print(model.summary())"
      ],
      "metadata": {
        "colab": {
          "base_uri": "https://localhost:8080/"
        },
        "outputId": "6c06c8d0-a045-485f-c199-59b5ee3236ef",
        "id": "KK5vf0AX-eOm"
      },
      "execution_count": null,
      "outputs": [
        {
          "output_type": "stream",
          "name": "stdout",
          "text": [
            "Model: \"sequential_1\"\n",
            "_________________________________________________________________\n",
            " Layer (type)                Output Shape              Param #   \n",
            "=================================================================\n",
            " embedding_1 (Embedding)     (None, 200, 32)           320032    \n",
            "                                                                 \n",
            " lstm_1 (LSTM)               (None, 100)               53200     \n",
            "                                                                 \n",
            " dense_1 (Dense)             (None, 1)                 101       \n",
            "                                                                 \n",
            "=================================================================\n",
            "Total params: 373,333\n",
            "Trainable params: 373,333\n",
            "Non-trainable params: 0\n",
            "_________________________________________________________________\n",
            "None\n"
          ]
        }
      ]
    },
    {
      "cell_type": "markdown",
      "source": [
        "***Fitting model***"
      ],
      "metadata": {
        "id": "KxpCnOA9-eOm"
      }
    },
    {
      "cell_type": "code",
      "source": [
        "model.fit(X_train, y_train, epochs=10, batch_size=64)"
      ],
      "metadata": {
        "colab": {
          "base_uri": "https://localhost:8080/"
        },
        "outputId": "31b02a96-57f4-4bac-9662-f078b6b52fd5",
        "id": "ssnZOUG9-eOn"
      },
      "execution_count": null,
      "outputs": [
        {
          "output_type": "stream",
          "name": "stdout",
          "text": [
            "Epoch 1/10\n",
            "391/391 [==============================] - 97s 241ms/step - loss: 0.4247 - accuracy: 0.8023\n",
            "Epoch 2/10\n",
            "391/391 [==============================] - 91s 232ms/step - loss: 0.2640 - accuracy: 0.8980\n",
            "Epoch 3/10\n",
            "391/391 [==============================] - 90s 231ms/step - loss: 0.2072 - accuracy: 0.9218\n",
            "Epoch 4/10\n",
            "391/391 [==============================] - 90s 230ms/step - loss: 0.1647 - accuracy: 0.9410\n",
            "Epoch 5/10\n",
            "391/391 [==============================] - 91s 232ms/step - loss: 0.1237 - accuracy: 0.9560\n",
            "Epoch 6/10\n",
            "391/391 [==============================] - 90s 231ms/step - loss: 0.0978 - accuracy: 0.9674\n",
            "Epoch 7/10\n",
            "391/391 [==============================] - 90s 231ms/step - loss: 0.0838 - accuracy: 0.9714\n",
            "Epoch 8/10\n",
            "391/391 [==============================] - 90s 231ms/step - loss: 0.0666 - accuracy: 0.9785\n",
            "Epoch 9/10\n",
            "391/391 [==============================] - 90s 229ms/step - loss: 0.0547 - accuracy: 0.9822\n",
            "Epoch 10/10\n",
            "391/391 [==============================] - 90s 230ms/step - loss: 0.0524 - accuracy: 0.9834\n"
          ]
        },
        {
          "output_type": "execute_result",
          "data": {
            "text/plain": [
              "<keras.callbacks.History at 0x7f6b9a6a1250>"
            ]
          },
          "metadata": {},
          "execution_count": 18
        }
      ]
    },
    {
      "cell_type": "code",
      "source": [
        "scores = model.evaluate(X_test, y_test, verbose=0)\n",
        "print(\"Accuracy: %.2f%%\" % (scores[1]*100))"
      ],
      "metadata": {
        "colab": {
          "base_uri": "https://localhost:8080/"
        },
        "outputId": "a30bfd5e-c3b6-42d2-a5db-9dd68d163373",
        "id": "K-x8zVTu-eOo"
      },
      "execution_count": null,
      "outputs": [
        {
          "output_type": "stream",
          "name": "stdout",
          "text": [
            "Accuracy: 80.12%\n"
          ]
        }
      ]
    },
    {
      "cell_type": "markdown",
      "source": [
        "***top_word: 9000***\n",
        "\n",
        "***max_reviewlength: 600***"
      ],
      "metadata": {
        "id": "BUzGlLxbCkgV"
      }
    },
    {
      "cell_type": "code",
      "source": [
        "top_words = 9000"
      ],
      "metadata": {
        "id": "JhMr0llgC0M0"
      },
      "execution_count": null,
      "outputs": []
    },
    {
      "cell_type": "code",
      "source": [
        "(X_train, y_train), (X_test, y_test) = imdb.load_data(nb_words=top_words)"
      ],
      "metadata": {
        "colab": {
          "base_uri": "https://localhost:8080/"
        },
        "outputId": "765d3edc-cef4-43bc-be40-4d60e59d33bb",
        "id": "uX9Hw3c5C0M1"
      },
      "execution_count": null,
      "outputs": [
        {
          "output_type": "stream",
          "name": "stdout",
          "text": [
            "WARNING:tensorflow:The `nb_words` argument in `load_data` has been renamed `num_words`.\n"
          ]
        }
      ]
    },
    {
      "cell_type": "code",
      "source": [
        "print(X_train[1])\n",
        "print(type(X_train[1]))\n",
        "print(len(X_train[1]))"
      ],
      "metadata": {
        "colab": {
          "base_uri": "https://localhost:8080/"
        },
        "outputId": "c1543d19-11f8-46b9-ce87-6bad889c009e",
        "id": "656Vp9zPC0M2"
      },
      "execution_count": null,
      "outputs": [
        {
          "output_type": "stream",
          "name": "stdout",
          "text": [
            "[1, 194, 1153, 194, 8255, 78, 228, 5, 6, 1463, 4369, 5012, 134, 26, 4, 715, 8, 118, 1634, 14, 394, 20, 13, 119, 954, 189, 102, 5, 207, 110, 3103, 21, 14, 69, 188, 8, 30, 23, 7, 4, 249, 126, 93, 4, 114, 9, 2300, 1523, 5, 647, 4, 116, 9, 35, 8163, 4, 229, 9, 340, 1322, 4, 118, 9, 4, 130, 4901, 19, 4, 1002, 5, 89, 29, 952, 46, 37, 4, 455, 9, 45, 43, 38, 1543, 1905, 398, 4, 1649, 26, 6853, 5, 163, 11, 3215, 2, 4, 1153, 9, 194, 775, 7, 8255, 2, 349, 2637, 148, 605, 2, 8003, 15, 123, 125, 68, 2, 6853, 15, 349, 165, 4362, 98, 5, 4, 228, 9, 43, 2, 1157, 15, 299, 120, 5, 120, 174, 11, 220, 175, 136, 50, 9, 4373, 228, 8255, 5, 2, 656, 245, 2350, 5, 4, 2, 131, 152, 491, 18, 2, 32, 7464, 1212, 14, 9, 6, 371, 78, 22, 625, 64, 1382, 9, 8, 168, 145, 23, 4, 1690, 15, 16, 4, 1355, 5, 28, 6, 52, 154, 462, 33, 89, 78, 285, 16, 145, 95]\n",
            "<class 'list'>\n",
            "189\n"
          ]
        }
      ]
    },
    {
      "cell_type": "code",
      "source": [
        "max_review_length = 600"
      ],
      "metadata": {
        "id": "51nsOiTOC0M2"
      },
      "execution_count": null,
      "outputs": []
    },
    {
      "cell_type": "code",
      "source": [
        "X_train = sequence.pad_sequences(X_train, maxlen=max_review_length)\n",
        "X_test = sequence.pad_sequences(X_test, maxlen=max_review_length)\n",
        "\n",
        "print(X_train.shape)\n",
        "print(X_train[1])"
      ],
      "metadata": {
        "colab": {
          "base_uri": "https://localhost:8080/"
        },
        "outputId": "7fb77478-f49b-4867-ab31-4daf40ec8bc0",
        "id": "AzDurRyBC0M2"
      },
      "execution_count": null,
      "outputs": [
        {
          "output_type": "stream",
          "name": "stdout",
          "text": [
            "(25000, 600)\n",
            "[   0    0    0    0    0    0    0    0    0    0    0    0    0    0\n",
            "    0    0    0    0    0    0    0    0    0    0    0    0    0    0\n",
            "    0    0    0    0    0    0    0    0    0    0    0    0    0    0\n",
            "    0    0    0    0    0    0    0    0    0    0    0    0    0    0\n",
            "    0    0    0    0    0    0    0    0    0    0    0    0    0    0\n",
            "    0    0    0    0    0    0    0    0    0    0    0    0    0    0\n",
            "    0    0    0    0    0    0    0    0    0    0    0    0    0    0\n",
            "    0    0    0    0    0    0    0    0    0    0    0    0    0    0\n",
            "    0    0    0    0    0    0    0    0    0    0    0    0    0    0\n",
            "    0    0    0    0    0    0    0    0    0    0    0    0    0    0\n",
            "    0    0    0    0    0    0    0    0    0    0    0    0    0    0\n",
            "    0    0    0    0    0    0    0    0    0    0    0    0    0    0\n",
            "    0    0    0    0    0    0    0    0    0    0    0    0    0    0\n",
            "    0    0    0    0    0    0    0    0    0    0    0    0    0    0\n",
            "    0    0    0    0    0    0    0    0    0    0    0    0    0    0\n",
            "    0    0    0    0    0    0    0    0    0    0    0    0    0    0\n",
            "    0    0    0    0    0    0    0    0    0    0    0    0    0    0\n",
            "    0    0    0    0    0    0    0    0    0    0    0    0    0    0\n",
            "    0    0    0    0    0    0    0    0    0    0    0    0    0    0\n",
            "    0    0    0    0    0    0    0    0    0    0    0    0    0    0\n",
            "    0    0    0    0    0    0    0    0    0    0    0    0    0    0\n",
            "    0    0    0    0    0    0    0    0    0    0    0    0    0    0\n",
            "    0    0    0    0    0    0    0    0    0    0    0    0    0    0\n",
            "    0    0    0    0    0    0    0    0    0    0    0    0    0    0\n",
            "    0    0    0    0    0    0    0    0    0    0    0    0    0    0\n",
            "    0    0    0    0    0    0    0    0    0    0    0    0    0    0\n",
            "    0    0    0    0    0    0    0    0    0    0    0    0    0    0\n",
            "    0    0    0    0    0    0    0    0    0    0    0    0    0    0\n",
            "    0    0    0    0    0    0    0    0    0    0    0    0    0    0\n",
            "    0    0    0    0    0    1  194 1153  194 8255   78  228    5    6\n",
            " 1463 4369 5012  134   26    4  715    8  118 1634   14  394   20   13\n",
            "  119  954  189  102    5  207  110 3103   21   14   69  188    8   30\n",
            "   23    7    4  249  126   93    4  114    9 2300 1523    5  647    4\n",
            "  116    9   35 8163    4  229    9  340 1322    4  118    9    4  130\n",
            " 4901   19    4 1002    5   89   29  952   46   37    4  455    9   45\n",
            "   43   38 1543 1905  398    4 1649   26 6853    5  163   11 3215    2\n",
            "    4 1153    9  194  775    7 8255    2  349 2637  148  605    2 8003\n",
            "   15  123  125   68    2 6853   15  349  165 4362   98    5    4  228\n",
            "    9   43    2 1157   15  299  120    5  120  174   11  220  175  136\n",
            "   50    9 4373  228 8255    5    2  656  245 2350    5    4    2  131\n",
            "  152  491   18    2   32 7464 1212   14    9    6  371   78   22  625\n",
            "   64 1382    9    8  168  145   23    4 1690   15   16    4 1355    5\n",
            "   28    6   52  154  462   33   89   78  285   16  145   95]\n"
          ]
        }
      ]
    },
    {
      "cell_type": "markdown",
      "source": [
        "***Creating model (LSTM 3)***"
      ],
      "metadata": {
        "id": "ab_KkI9YC0M3"
      }
    },
    {
      "cell_type": "code",
      "source": [
        "embedding_vecor_length = 32\n",
        "model = Sequential()\n",
        "model.add(Embedding(top_words+1, embedding_vecor_length, input_length=max_review_length))\n",
        "model.add(LSTM(100))\n",
        "model.add(Dense(1, activation='sigmoid'))\n",
        "model.compile(loss='binary_crossentropy', optimizer='adam', metrics=['accuracy'])\n",
        "print(model.summary())"
      ],
      "metadata": {
        "colab": {
          "base_uri": "https://localhost:8080/"
        },
        "outputId": "298d5455-389b-49fb-f4c9-59e82e1046a6",
        "id": "EUgF4amEC0M5"
      },
      "execution_count": null,
      "outputs": [
        {
          "output_type": "stream",
          "name": "stdout",
          "text": [
            "Model: \"sequential_2\"\n",
            "_________________________________________________________________\n",
            " Layer (type)                Output Shape              Param #   \n",
            "=================================================================\n",
            " embedding_2 (Embedding)     (None, 600, 32)           288032    \n",
            "                                                                 \n",
            " lstm_2 (LSTM)               (None, 100)               53200     \n",
            "                                                                 \n",
            " dense_2 (Dense)             (None, 1)                 101       \n",
            "                                                                 \n",
            "=================================================================\n",
            "Total params: 341,333\n",
            "Trainable params: 341,333\n",
            "Non-trainable params: 0\n",
            "_________________________________________________________________\n",
            "None\n"
          ]
        }
      ]
    },
    {
      "cell_type": "markdown",
      "source": [
        "***Fitting model***"
      ],
      "metadata": {
        "id": "3KYTeO6gC0M6"
      }
    },
    {
      "cell_type": "code",
      "source": [
        "model.fit(X_train, y_train, epochs=10, batch_size=64)"
      ],
      "metadata": {
        "colab": {
          "base_uri": "https://localhost:8080/"
        },
        "outputId": "4c939509-fcca-47a6-96fd-c525f5f3f493",
        "id": "mjM5wEqdC0M6"
      },
      "execution_count": null,
      "outputs": [
        {
          "output_type": "stream",
          "name": "stdout",
          "text": [
            "Epoch 1/10\n",
            "391/391 [==============================] - 270s 685ms/step - loss: 0.4621 - accuracy: 0.7731\n",
            "Epoch 2/10\n",
            "391/391 [==============================] - 267s 683ms/step - loss: 0.2883 - accuracy: 0.8875\n",
            "Epoch 3/10\n",
            "391/391 [==============================] - 268s 684ms/step - loss: 0.2274 - accuracy: 0.9130\n",
            "Epoch 4/10\n",
            "391/391 [==============================] - 267s 683ms/step - loss: 0.1815 - accuracy: 0.9342\n",
            "Epoch 5/10\n",
            "391/391 [==============================] - 267s 682ms/step - loss: 0.1512 - accuracy: 0.9469\n",
            "Epoch 6/10\n",
            "391/391 [==============================] - 267s 682ms/step - loss: 0.1288 - accuracy: 0.9556\n",
            "Epoch 7/10\n",
            "391/391 [==============================] - 267s 683ms/step - loss: 0.3144 - accuracy: 0.8562\n",
            "Epoch 8/10\n",
            "391/391 [==============================] - 267s 683ms/step - loss: 0.1770 - accuracy: 0.9325\n",
            "Epoch 9/10\n",
            "391/391 [==============================] - 267s 682ms/step - loss: 0.0967 - accuracy: 0.9679\n",
            "Epoch 10/10\n",
            "391/391 [==============================] - 267s 684ms/step - loss: 0.0712 - accuracy: 0.9780\n"
          ]
        },
        {
          "output_type": "execute_result",
          "data": {
            "text/plain": [
              "<keras.callbacks.History at 0x7f6b96153990>"
            ]
          },
          "metadata": {},
          "execution_count": 26
        }
      ]
    },
    {
      "cell_type": "code",
      "source": [
        "scores = model.evaluate(X_test, y_test, verbose=0)\n",
        "print(\"Accuracy: %.2f%%\" % (scores[1]*100))"
      ],
      "metadata": {
        "colab": {
          "base_uri": "https://localhost:8080/"
        },
        "outputId": "d24901c5-788a-4c84-ab04-67a205f5c9c0",
        "id": "MeL289iaC0M6"
      },
      "execution_count": null,
      "outputs": [
        {
          "output_type": "stream",
          "name": "stdout",
          "text": [
            "Accuracy: 85.42%\n"
          ]
        }
      ]
    }
  ]
}